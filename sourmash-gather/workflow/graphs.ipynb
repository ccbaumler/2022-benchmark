{
 "cells": [
  {
   "cell_type": "code",
   "execution_count": 2,
   "metadata": {},
   "outputs": [],
   "source": [
    "import pandas as pd\n",
    "import matplotlib.pyplot as plt\n",
    "import itertools\n",
    "import os"
   ]
  },
  {
   "cell_type": "code",
   "execution_count": 14,
   "metadata": {},
   "outputs": [],
   "source": [
    "sample = [\"SRR1976948\", \"SRR1977296\",\"SRR1977357\",\"SRR1977249\",\"SRR1977304\",\"SRR1977365\"]\n",
    "sample_triplicate = list(itertools.chain.from_iterable(itertools.repeat(x, 3) for x in sample))\n",
    "file_list= list(map(lambda x: \"./bench/\"+x+\".tsv\", sample))"
   ]
  },
  {
   "cell_type": "code",
   "execution_count": null,
   "metadata": {},
   "outputs": [],
   "source": [
    "main_dataframe = pd.DataFrame(pd.read_csv(file_list[0], sep = '/t'))\n",
    "  \n",
    "for i in range(1,len(file_list)):\n",
    "    data = pd.read_csv(file_list[i], sep=\"/t\")\n",
    "    df = pd.DataFrame(data)\n",
    "    main_dataframe = pd.concat([main_dataframe,df],axis=1)\n"
   ]
  },
  {
   "cell_type": "code",
   "execution_count": 30,
   "metadata": {},
   "outputs": [
    {
     "name": "stderr",
     "output_type": "stream",
     "text": [
      "C:\\Users\\sande\\Documents\\MobaXterm\\slash\\var\\log\\xwin\\ipykernel_4376\\2877787503.py:1: ParserWarning: Falling back to the 'python' engine because the 'c' engine does not support regex separators (separators > 1 char and different from '\\s+' are interpreted as regex); you can avoid this warning by specifying engine='python'.\n",
      "  main_dataframe = pd.DataFrame(pd.read_csv(file_list[0], sep = '/t'))\n"
     ]
    }
   ],
   "source": [
    "main_dataframe = pd.DataFrame(pd.read_csv(file_list[0], sep = '/t'))"
   ]
  }
 ],
 "metadata": {
  "kernelspec": {
   "display_name": "base",
   "language": "python",
   "name": "python3"
  },
  "language_info": {
   "codemirror_mode": {
    "name": "ipython",
    "version": 3
   },
   "file_extension": ".py",
   "mimetype": "text/x-python",
   "name": "python",
   "nbconvert_exporter": "python",
   "pygments_lexer": "ipython3",
   "version": "3.9.13 (main, Aug 25 2022, 23:51:50) [MSC v.1916 64 bit (AMD64)]"
  },
  "orig_nbformat": 4,
  "vscode": {
   "interpreter": {
    "hash": "847d36dd74d3db7bcac89bf357c370f015c294bfb16cb92561a1974142bc3141"
   }
  }
 },
 "nbformat": 4,
 "nbformat_minor": 2
}
